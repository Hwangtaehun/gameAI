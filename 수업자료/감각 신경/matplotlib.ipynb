{
  "nbformat": 4,
  "nbformat_minor": 0,
  "metadata": {
    "colab": {
      "private_outputs": true,
      "provenance": [],
      "authorship_tag": "ABX9TyPOZqEMRiaOAGUOdzym3FTx",
      "include_colab_link": true
    },
    "kernelspec": {
      "name": "python3",
      "display_name": "Python 3"
    },
    "language_info": {
      "name": "python"
    }
  },
  "cells": [
    {
      "cell_type": "markdown",
      "metadata": {
        "id": "view-in-github",
        "colab_type": "text"
      },
      "source": [
        "<a href=\"https://colab.research.google.com/github/Hwangtaehun/gameAI/blob/main/matplotlib.ipynb\" target=\"_parent\"><img src=\"https://colab.research.google.com/assets/colab-badge.svg\" alt=\"Open In Colab\"/></a>"
      ]
    },
    {
      "cell_type": "code",
      "execution_count": null,
      "metadata": {
        "id": "eHRP8dGkQTFe"
      },
      "outputs": [],
      "source": [
        "import matplotlib.pyplot as plt\n",
        "import numpy as np\n",
        "\n",
        "arr = np.array([1, 2, 3, 4, 5, 6])\n",
        "print(arr)\n",
        "print(type(arr))\n",
        "print(arr.shape) #1차원"
      ]
    },
    {
      "cell_type": "code",
      "source": [
        "arr = np.array(10)\n",
        "print(arr)\n",
        "print(type(arr))\n",
        "print(arr.shape) #0차원"
      ],
      "metadata": {
        "id": "UT8pENuwRae-"
      },
      "execution_count": null,
      "outputs": []
    },
    {
      "cell_type": "code",
      "source": [
        "arr1 = [x for x in range(1, 11)]\n",
        "print(arr1)\n",
        "arr = np.array(arr1)\n",
        "print(arr)\n",
        "print(type(arr))\n",
        "print(arr.shape) #1차원"
      ],
      "metadata": {
        "id": "bvcwE6TjRnc9"
      },
      "execution_count": null,
      "outputs": []
    },
    {
      "cell_type": "code",
      "source": [
        "arr2 = [[1, 3, 5], [2, 4, 6]] #파이썬의 2차원 어레이(즉, 행렬)\n",
        "print(arr2)\n",
        "arr = np.array(arr2) # numpy의 ndarray type으로 변환\n",
        "print(arr)\n",
        "print(type(arr))\n",
        "print(arr.shape) #2차원"
      ],
      "metadata": {
        "id": "GxzhcyZmR81N"
      },
      "execution_count": null,
      "outputs": []
    },
    {
      "cell_type": "code",
      "source": [
        "arr3 = [[[1, 3, 5], [2, 4, 6], [0, 1, 2]]] #파이썬의 3차원 어레이(즉, 행렬)\n",
        "print(arr3)\n",
        "arr = np.array(arr3) # numpy의 ndarray type으로 변환\n",
        "print(arr)\n",
        "print(type(arr))\n",
        "print(arr.shape) #3차원"
      ],
      "metadata": {
        "id": "IVZVQMJwSmxc"
      },
      "execution_count": null,
      "outputs": []
    },
    {
      "cell_type": "code",
      "source": [
        "z = np.linspace(1, 10, 3)\n",
        "print(z)\n",
        "print(type(z))"
      ],
      "metadata": {
        "id": "zZUqnsKdTDbs"
      },
      "execution_count": null,
      "outputs": []
    },
    {
      "cell_type": "code",
      "source": [
        "xpoints = np.array([1, 8])\n",
        "ypoints = np.array([3, 10])\n",
        "\n",
        "plt.plot(xpoints, ypoints)\n",
        "plt.show()"
      ],
      "metadata": {
        "id": "HCHJhRMCTnbc"
      },
      "execution_count": null,
      "outputs": []
    },
    {
      "cell_type": "code",
      "source": [
        "xpoints = np.array([1, 2, 6, 8])\n",
        "ypoints = np.array([3, 8, 1, 10])\n",
        "\n",
        "plt.plot(xpoints, ypoints, marker='o')\n",
        "plt.show()"
      ],
      "metadata": {
        "id": "bMydMPxmT_h1"
      },
      "execution_count": null,
      "outputs": []
    },
    {
      "cell_type": "code",
      "source": [
        "x = np.linspace(0, 2 * np.pi, 100)\n",
        "\n",
        "# plt.plot(x, np.sin(x), marker='o')\n",
        "# plt.plot(x, np.cos(x), marker='o')\n",
        "plt.plot(x, np.sin(x))\n",
        "plt.plot(x, np.cos(x))\n",
        "\n",
        "plt.show()"
      ],
      "metadata": {
        "id": "0eNLptvmUUNV"
      },
      "execution_count": null,
      "outputs": []
    },
    {
      "cell_type": "code",
      "source": [
        "x = np.linspace(80, 125, 10)\n",
        "y = np.linspace(240, 330, 10)\n",
        "\n",
        "font1 = {'family': 'serif', 'color': 'blue', 'size': 20}\n",
        "font2 = {'family': 'serif', 'color': 'darkred', 'size': 15}\n",
        "\n",
        "plt.title(\"Smart Watch Data\", fontdict = font1)\n",
        "plt.xlabel(\"Average Pulse\", fontdict = font2)\n",
        "plt.ylabel(\"Calorie Burnage\", fontdict = font2)\n",
        "\n",
        "plt.plot(x, y)\n",
        "plt.grid()\n",
        "plt.show()"
      ],
      "metadata": {
        "id": "WHEUIsrKU-xV"
      },
      "execution_count": null,
      "outputs": []
    },
    {
      "cell_type": "code",
      "source": [
        "# Scatterplot graph\n",
        "\n",
        "x = np.random.randint(15, size=10)\n",
        "y = np.random.randint(20, size=10)\n",
        "print(x)\n",
        "print(y)\n",
        "plt.scatter(x, y, color = 'hotpink')\n",
        "\n",
        "x = np.random.randint(50, 100, size=10)\n",
        "y = np.random.randint(50, 100, size=10)\n",
        "print(x)\n",
        "print(y)\n",
        "plt.scatter(x, y, color = '#88cc99')\n",
        "\n",
        "plt.show()"
      ],
      "metadata": {
        "id": "O3pX-OzUVh-t"
      },
      "execution_count": null,
      "outputs": []
    },
    {
      "cell_type": "code",
      "source": [
        "# Bar Graph\n",
        "\n",
        "x = np.array([\"A\", \"B\", \"C\", \"D\"])\n",
        "y = np.array([3, 8, 1, 10])\n",
        "\n",
        "plt.bar(x, y, color = \"lightsteelblue\", width = 0.5)\n",
        "plt.show()"
      ],
      "metadata": {
        "id": "bnxwkTzOXy-2"
      },
      "execution_count": null,
      "outputs": []
    },
    {
      "cell_type": "code",
      "source": [
        "# Barh Graph\n",
        "\n",
        "x = np.array([\"A\", \"B\", \"C\", \"D\"])\n",
        "y = np.array([3, 8, 1, 10])\n",
        "\n",
        "plt.barh(x, y)\n",
        "plt.show()"
      ],
      "metadata": {
        "id": "eiiHeB_OYPyd"
      },
      "execution_count": null,
      "outputs": []
    },
    {
      "cell_type": "code",
      "source": [
        "# Histogram graph\n",
        "x = np.random.normal(170, 10, 100)\n",
        "\n",
        "print(x)\n",
        "plt.hist(x)\n",
        "plt.show()"
      ],
      "metadata": {
        "id": "H4k6v_tMYVJ0"
      },
      "execution_count": null,
      "outputs": []
    },
    {
      "cell_type": "code",
      "source": [
        "# pie graph\n",
        "\n",
        "y = np.array([35, 25, 25, 15])\n",
        "mylabels = ['Apples', 'Bananas', 'Cherries', 'Dragonfruits']\n",
        "\n",
        "plt.pie(y, labels = mylabels)\n",
        "plt.show()"
      ],
      "metadata": {
        "id": "ESbpES_HaGAF"
      },
      "execution_count": null,
      "outputs": []
    },
    {
      "cell_type": "code",
      "source": [
        "# pie graph\n",
        "\n",
        "y = np.array([35, 25, 25, 15])\n",
        "mylabels = ['Apples', 'Bananas', 'Cherries', 'Dragonfruits']\n",
        "\n",
        "plt.pie(y, labels = mylabels, startangle = 90)\n",
        "plt.show()"
      ],
      "metadata": {
        "id": "IScgcWJSZGzM"
      },
      "execution_count": null,
      "outputs": []
    },
    {
      "cell_type": "code",
      "source": [
        "y = np.array([35, 25, 25, 15])\n",
        "mylabels = ['Apples', 'Bananas', 'Cherries', 'Dragonfruits']\n",
        "myexplode = [0.2, 0, 0, 0]\n",
        "\n",
        "plt.pie(y, labels = mylabels, startangle = 90, explode = myexplode)\n",
        "plt.show()"
      ],
      "metadata": {
        "id": "yEtO5bPRZyX1"
      },
      "execution_count": null,
      "outputs": []
    },
    {
      "cell_type": "code",
      "source": [
        "y = np.array([35, 25, 25, 15])\n",
        "mylabels = ['Apples', 'Bananas', 'Cherries', 'Dragonfruits']\n",
        "myexplode = [0.2, 0, 0, 0]\n",
        "\n",
        "plt.pie(y, labels = mylabels, explode = myexplode)\n",
        "plt.legend(loc='upper left') #범례 표시\n",
        "plt.show()"
      ],
      "metadata": {
        "id": "KPbCo-bPaLAb"
      },
      "execution_count": null,
      "outputs": []
    },
    {
      "cell_type": "markdown",
      "source": [
        "matplotlib tutorial 검색해서 찾아보기"
      ],
      "metadata": {
        "id": "qTIpjsJiatte"
      }
    }
  ]
}