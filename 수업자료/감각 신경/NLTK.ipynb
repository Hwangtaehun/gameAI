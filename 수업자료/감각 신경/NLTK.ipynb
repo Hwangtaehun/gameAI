{
  "nbformat": 4,
  "nbformat_minor": 0,
  "metadata": {
    "colab": {
      "private_outputs": true,
      "provenance": [],
      "authorship_tag": "ABX9TyNG51Fs8gDidL9uPN2+Zk7V",
      "include_colab_link": true
    },
    "kernelspec": {
      "name": "python3",
      "display_name": "Python 3"
    },
    "language_info": {
      "name": "python"
    }
  },
  "cells": [
    {
      "cell_type": "markdown",
      "metadata": {
        "id": "view-in-github",
        "colab_type": "text"
      },
      "source": [
        "<a href=\"https://colab.research.google.com/github/Hwangtaehun/gameAI/blob/main/NLTK.ipynb\" target=\"_parent\"><img src=\"https://colab.research.google.com/assets/colab-badge.svg\" alt=\"Open In Colab\"/></a>"
      ]
    },
    {
      "cell_type": "code",
      "execution_count": null,
      "metadata": {
        "id": "fa8k6V7xSmwc"
      },
      "outputs": [],
      "source": [
        "import nltk\n",
        "nltk.download('book')"
      ]
    },
    {
      "cell_type": "code",
      "source": [
        "from nltk.book import *"
      ],
      "metadata": {
        "id": "Q_JO29MfTOKY"
      },
      "execution_count": null,
      "outputs": []
    },
    {
      "cell_type": "code",
      "source": [
        "print(text3)\n",
        "print(text1)\n",
        "text1.concordance('lol')\n",
        "text5.concordance('lol')"
      ],
      "metadata": {
        "id": "W6G8n8uFTpHI"
      },
      "execution_count": null,
      "outputs": []
    },
    {
      "cell_type": "code",
      "source": [
        "print(text4)\n",
        "text4.dispersion_plot(['citizens', 'democracy', 'freedom', 'America']) #분포도"
      ],
      "metadata": {
        "id": "fv7PnEAeUIcI"
      },
      "execution_count": null,
      "outputs": []
    },
    {
      "cell_type": "code",
      "source": [
        "print(text2)\n",
        "print(len(text2)) #워드수\n",
        "print(len(set(text2))) #중복 워드수\n",
        "# print(len(sorted(set(text2))))\n",
        "# sorted(set(text2), reverse = True)[0:300]"
      ],
      "metadata": {
        "id": "4edoYeypUiHf"
      },
      "execution_count": null,
      "outputs": []
    },
    {
      "cell_type": "code",
      "source": [
        "def lexical_diversity(text):\n",
        "  return len(set(text)) / len(text)\n",
        "\n",
        "print(lexical_diversity(text2)) # Sense and Sensibility\n",
        "print(lexical_diversity(text3)) # Genesis\n",
        "print(lexical_diversity(text5)) # Chat corpus\n",
        "print(lexical_diversity(text9)) # G.K. Chestoton\n",
        "\n",
        "print(text2.count('love'))\n",
        "print(text3.count('love'))\n",
        "print(text5.count('love'))\n",
        "print(text9.count('love'))"
      ],
      "metadata": {
        "id": "8_ci_VYXVdlp"
      },
      "execution_count": null,
      "outputs": []
    },
    {
      "cell_type": "code",
      "source": [
        "fdist3 = FreqDist(text3)\n",
        "print(fdist3)\n",
        "# fdist3.most_common(100)\n",
        "print(fdist3['God'])\n",
        "print(fdist3['love'])\n",
        "print(fdist3['Adam'])\n",
        "print(fdist3['Eve'])\n",
        "print(fdist3['knowledge'])"
      ],
      "metadata": {
        "id": "pcSPD1_bXc0g"
      },
      "execution_count": null,
      "outputs": []
    },
    {
      "cell_type": "code",
      "source": [
        "fdist3.plot(50, cumulative=False)"
      ],
      "metadata": {
        "id": "2TZF3CJJYqQ6"
      },
      "execution_count": null,
      "outputs": []
    },
    {
      "cell_type": "code",
      "source": [
        "import nltk\n",
        "nltk.download('gutenberg')\n",
        "from nltk.corpus import gutenberg\n",
        "gutenberg.fileids()"
      ],
      "metadata": {
        "id": "BBBJ69iQZBGp"
      },
      "execution_count": null,
      "outputs": []
    },
    {
      "cell_type": "code",
      "source": [
        "nltk.download('brown')\n",
        "from nltk.corpus import brown\n",
        "brown.categories()"
      ],
      "metadata": {
        "id": "2mJWoRtFZvKI"
      },
      "execution_count": null,
      "outputs": []
    },
    {
      "cell_type": "code",
      "source": [
        "print(brown.words(categories='humor'))"
      ],
      "metadata": {
        "id": "8gjBH2EEaiZp"
      },
      "execution_count": null,
      "outputs": []
    },
    {
      "cell_type": "code",
      "source": [
        "news_text = brown.words(categories = 'humor')\n",
        "fdist = nltk.FreqDist(w.lower() for w in news_text) # 소문자로 변경\n",
        "modal_verbs = ['can', 'could', 'may', 'might', 'must', 'will', 'shall'] # 조동사\n",
        "for m in modal_verbs:\n",
        "  print(m + ':', fdist[m])"
      ],
      "metadata": {
        "id": "j_vjjoBhapqY"
      },
      "execution_count": null,
      "outputs": []
    },
    {
      "cell_type": "code",
      "source": [
        "cfd = nltk.ConditionalFreqDist((genre, word) \\\n",
        "                               for genre in brown.categories() \\\n",
        "                               for word in brown.words(categories = genre))\n",
        "genres = ['news', 'religion', 'hobbies', 'science_fiction', 'romance', 'humor']\n",
        "cfd.tabulate(conditions = genres, samples = modal_verbs)"
      ],
      "metadata": {
        "id": "LlSB_WIgblYR"
      },
      "execution_count": null,
      "outputs": []
    }
  ]
}