{
  "nbformat": 4,
  "nbformat_minor": 0,
  "metadata": {
    "colab": {
      "private_outputs": true,
      "provenance": [],
      "authorship_tag": "ABX9TyMn5e2kBM+J3RYD40aigKpw",
      "include_colab_link": true
    },
    "kernelspec": {
      "name": "python3",
      "display_name": "Python 3"
    },
    "language_info": {
      "name": "python"
    }
  },
  "cells": [
    {
      "cell_type": "markdown",
      "metadata": {
        "id": "view-in-github",
        "colab_type": "text"
      },
      "source": [
        "<a href=\"https://colab.research.google.com/github/Hwangtaehun/gameAI/blob/main/crossentropycost.ipynb\" target=\"_parent\"><img src=\"https://colab.research.google.com/assets/colab-badge.svg\" alt=\"Open In Colab\"/></a>"
      ]
    },
    {
      "cell_type": "code",
      "execution_count": null,
      "metadata": {
        "id": "vTwxAp4qIZMQ"
      },
      "outputs": [],
      "source": [
        "import math\n",
        "\n",
        "def cross_entropy(y, a):\n",
        "  return -1*(y*math.log(a) + (1-y)*math.log(1-a))"
      ]
    },
    {
      "cell_type": "code",
      "source": [
        "# y = [1, 1, 1, 1, 0, 1]\n",
        "# a = [0.9997, .9 , .6, .1192, .1192, 1-.1192]\n",
        "y = [1, 1, 1, 1, 0, 1]\n",
        "a = [0.9997, .9 , 0.00001, .1192, .1192, 1-.1192]\n",
        "\n",
        "for i,j in zip(y, a):\n",
        "  C = cross_entropy(i, j)\n",
        "  print(C)"
      ],
      "metadata": {
        "id": "Yr6OFmECI2hG"
      },
      "execution_count": null,
      "outputs": []
    }
  ]
}