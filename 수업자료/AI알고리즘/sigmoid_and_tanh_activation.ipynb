{
  "nbformat": 4,
  "nbformat_minor": 0,
  "metadata": {
    "colab": {
      "private_outputs": true,
      "provenance": [],
      "authorship_tag": "ABX9TyPLxVCZmxLyoG1qmul3gXDS",
      "include_colab_link": true
    },
    "kernelspec": {
      "name": "python3",
      "display_name": "Python 3"
    },
    "language_info": {
      "name": "python"
    }
  },
  "cells": [
    {
      "cell_type": "markdown",
      "metadata": {
        "id": "view-in-github",
        "colab_type": "text"
      },
      "source": [
        "<a href=\"https://colab.research.google.com/github/Hwangtaehun/gameAI/blob/main/sigmoid_and_tanh_activation.ipynb\" target=\"_parent\"><img src=\"https://colab.research.google.com/assets/colab-badge.svg\" alt=\"Open In Colab\"/></a>"
      ]
    },
    {
      "cell_type": "code",
      "execution_count": null,
      "metadata": {
        "id": "d2PxcF7c_5YL"
      },
      "outputs": [],
      "source": [
        "from math import e\n",
        "def sigmoid(z):\n",
        "  return 1 / (1+e**-z)"
      ]
    },
    {
      "cell_type": "code",
      "source": [
        "z = [100, 10, 1, 0.001, 0.00001, 0, -0.00001, -0.001, -1, -10, -100]\n",
        "for i in z:\n",
        "  print(sigmoid(i))"
      ],
      "metadata": {
        "id": "8P6i-Y9jAGLN"
      },
      "execution_count": null,
      "outputs": []
    },
    {
      "cell_type": "code",
      "source": [
        "import numpy as np\n",
        "import matplotlib.pyplot as plt\n",
        "\n",
        "def sigmoid(z):\n",
        "  return 1.0/(1.0 + np.exp(-z))\n",
        "\n",
        "values = np.arange(-10, 10, 0.1)\n",
        "\n",
        "plt.plot(values, sigmoid(values))\n",
        "plt.xlabel('z') # z = wx+b\n",
        "plt.ylabel('sigmoid(z)')\n",
        "plt.title(\"Sigmoid Function\")\n",
        "plt.show()"
      ],
      "metadata": {
        "id": "vMI5QfLGAziW"
      },
      "execution_count": null,
      "outputs": []
    },
    {
      "cell_type": "markdown",
      "source": [
        "tanh activation function"
      ],
      "metadata": {
        "id": "CkT-zYaLCsCE"
      }
    },
    {
      "cell_type": "code",
      "source": [
        "import numpy as np\n",
        "import matplotlib.pyplot as plt\n",
        "\n",
        "def tanh(z):\n",
        "  return (np.exp(z) - np.exp(-z)) / (np.exp(z) + np.exp(-z))\n",
        "\n",
        "values = np.arange(-10, 10, 0.1)\n",
        "\n",
        "plt.plot(values, tanh(values))\n",
        "plt.xlabel('z') # z = wx+b\n",
        "plt.ylabel('tanh(z)')\n",
        "plt.title(\"Tanh Function\")\n",
        "plt.show()"
      ],
      "metadata": {
        "id": "mjPX8GukCxw0"
      },
      "execution_count": null,
      "outputs": []
    }
  ]
}