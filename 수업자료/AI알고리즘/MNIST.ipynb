{
  "nbformat": 4,
  "nbformat_minor": 0,
  "metadata": {
    "colab": {
      "private_outputs": true,
      "provenance": [],
      "authorship_tag": "ABX9TyOB6hM4loJ8LRlnBeeCffwX",
      "include_colab_link": true
    },
    "kernelspec": {
      "name": "python3",
      "display_name": "Python 3"
    },
    "language_info": {
      "name": "python"
    }
  },
  "cells": [
    {
      "cell_type": "markdown",
      "metadata": {
        "id": "view-in-github",
        "colab_type": "text"
      },
      "source": [
        "<a href=\"https://colab.research.google.com/github/Hwangtaehun/gameAI/blob/main/MNIST.ipynb\" target=\"_parent\"><img src=\"https://colab.research.google.com/assets/colab-badge.svg\" alt=\"Open In Colab\"/></a>"
      ]
    },
    {
      "cell_type": "code",
      "execution_count": null,
      "metadata": {
        "id": "wc3vciELOdtK"
      },
      "outputs": [],
      "source": [
        "from tensorflow import keras                   #tensorflow 플랫폼에서 keras api 사용\n",
        "from tensorflow.keras.datasets import mnist    #MNIST 데이터셋 사용\n",
        "from tensorflow.keras.models import Sequential #Sequential 모델 사용\n",
        "from tensorflow.keras.layers import Dense      #Fully-connected layer 사용\n",
        "from tensorflow.keras.optimizers import SGD    #확률적 검사 하강버 사용\n",
        "from matplotlib import pyplot as plt"
      ]
    },
    {
      "cell_type": "code",
      "source": [
        "(X_train, y_train), (X_valid, y_valid) = mnist.load_data()"
      ],
      "metadata": {
        "id": "Fw4JPq10OjZ6"
      },
      "execution_count": null,
      "outputs": []
    },
    {
      "cell_type": "code",
      "source": [
        "print(X_train.shape)\n",
        "print(y_train.shape)\n",
        "print(y_train[0:12])\n",
        "print(X_valid.shape)\n",
        "print(y_valid.shape)\n",
        "print(y_valid[0:12])"
      ],
      "metadata": {
        "id": "xI_98lA1QDzC"
      },
      "execution_count": null,
      "outputs": []
    },
    {
      "cell_type": "code",
      "source": [
        "plt.figure(figsize = (5,5))\n",
        "for k in range(12):\n",
        "  plt.subplot(3, 4, k+1)\n",
        "  plt.imshow(X_train[k], cmap = 'Greys')\n",
        "  plt.axis('off')\n",
        "plt.tight_layout()\n",
        "plt.show()"
      ],
      "metadata": {
        "id": "HPlojErpQIyZ"
      },
      "execution_count": null,
      "outputs": []
    },
    {
      "cell_type": "code",
      "source": [
        "plt.figure(figsize = (5,5))\n",
        "for k in range(12):\n",
        "  plt.subplot(3, 4, k+1)\n",
        "  plt.imshow(X_valid[k], cmap = 'Greys')\n",
        "  plt.axis('off')\n",
        "plt.tight_layout()\n",
        "plt.show()"
      ],
      "metadata": {
        "id": "baD2Qg1VRjwZ"
      },
      "execution_count": null,
      "outputs": []
    },
    {
      "cell_type": "code",
      "source": [
        "plt.imshow(X_valid[0], cmap = 'Greys')\n",
        "plt.show()\n",
        "print(y_valid[0]) #label값\n",
        "print(X_valid[0])"
      ],
      "metadata": {
        "id": "Enl6zYr9RuJh"
      },
      "execution_count": null,
      "outputs": []
    },
    {
      "cell_type": "code",
      "source": [
        "X_train = X_train.reshape(60000, 784).astype('float32') #2차원 배열을 1차원으로 축소, 실수형으로 자료형 변환\n",
        "X_valid = X_valid.reshape(10000, 784).astype('float32')\n",
        "\n",
        "X_train /= 255\n",
        "X_valid /= 255\n",
        "\n",
        "print(X_train[0])"
      ],
      "metadata": {
        "id": "j5vpgjWfSe6i"
      },
      "execution_count": null,
      "outputs": []
    },
    {
      "cell_type": "code",
      "source": [
        "n_classes = 10                                           # 출력 (즉, 클래스)의 개수 : 10 (0 ~ 9)\n",
        "y_train = keras.utils.to_categorical(y_train, n_classes) # 출력 클래스 값을 One-hot encoding을 이용해서 변환\n",
        "y_valid = keras.utils.to_categorical(y_valid, n_classes)"
      ],
      "metadata": {
        "id": "2xmBNj4wTOmh"
      },
      "execution_count": null,
      "outputs": []
    },
    {
      "cell_type": "code",
      "source": [
        "print(y_train[0]) # 정수 5의 one-hot encoding 표현 출력\n",
        "print(y_valid[0])"
      ],
      "metadata": {
        "id": "wqgx0nEnUYYx"
      },
      "execution_count": null,
      "outputs": []
    },
    {
      "cell_type": "code",
      "source": [
        "from keras.api._v2.keras import activations\n",
        "model = Sequential() # 시퀀설 모델 생성\n",
        "model.add(Dense(64, activation  = 'sigmoid', input_shape = (784, ))) # 첫번째 은닉층 설정\n",
        "model.add(Dense(10, activation  = 'softmax'))"
      ],
      "metadata": {
        "id": "95-Ns_IhUzFa"
      },
      "execution_count": null,
      "outputs": []
    },
    {
      "cell_type": "code",
      "source": [
        "model.summary()"
      ],
      "metadata": {
        "id": "1ajd98VGVwkR"
      },
      "execution_count": null,
      "outputs": []
    },
    {
      "cell_type": "code",
      "source": [
        "model.compile(loss = 'mean_squared_error', optimizer = SGD(learning_rate = 0.01), metrics = ['accuracy'] )"
      ],
      "metadata": {
        "id": "w9JEOQ1YW5b5"
      },
      "execution_count": null,
      "outputs": []
    },
    {
      "cell_type": "code",
      "source": [
        "model.fit(X_train, y_train, batch_size=128, epochs=200, verbose=1, validation_data = (X_valid, y_valid))"
      ],
      "metadata": {
        "id": "0P3RoD1kXYOH"
      },
      "execution_count": null,
      "outputs": []
    },
    {
      "cell_type": "code",
      "source": [
        "model.evaluate(X_valid, y_valid)"
      ],
      "metadata": {
        "id": "ifjs2F--ZfXo"
      },
      "execution_count": null,
      "outputs": []
    }
  ]
}