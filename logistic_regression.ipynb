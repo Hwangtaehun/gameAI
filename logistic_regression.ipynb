{
  "nbformat": 4,
  "nbformat_minor": 0,
  "metadata": {
    "colab": {
      "private_outputs": true,
      "provenance": [],
      "authorship_tag": "ABX9TyMoM+Btojln9NKMn+KbcKoI",
      "include_colab_link": true
    },
    "kernelspec": {
      "name": "python3",
      "display_name": "Python 3"
    },
    "language_info": {
      "name": "python"
    }
  },
  "cells": [
    {
      "cell_type": "markdown",
      "metadata": {
        "id": "view-in-github",
        "colab_type": "text"
      },
      "source": [
        "<a href=\"https://colab.research.google.com/github/Hwangtaehun/gameAI/blob/main/logistic_regression.ipynb\" target=\"_parent\"><img src=\"https://colab.research.google.com/assets/colab-badge.svg\" alt=\"Open In Colab\"/></a>"
      ]
    },
    {
      "cell_type": "code",
      "execution_count": null,
      "metadata": {
        "id": "RjouKkQ1AznG"
      },
      "outputs": [],
      "source": [
        "import numpy as np\n",
        "from google.colab import drive\n",
        "drive.mount('/content/drive')"
      ]
    },
    {
      "cell_type": "code",
      "source": [
        "data = np.genfromtxt('/content/drive/My Drive/csv/logistic-regression-sample-dataset.csv', skip_header=1, delimiter=',')"
      ],
      "metadata": {
        "id": "SsK1E5czJwOI"
      },
      "execution_count": null,
      "outputs": []
    },
    {
      "cell_type": "code",
      "source": [
        "print(data)"
      ],
      "metadata": {
        "id": "LGZeNNptK27H"
      },
      "execution_count": null,
      "outputs": []
    },
    {
      "cell_type": "code",
      "source": [
        "X = [i[0] for i in data] #독립 변수 (study time)\n",
        "Y = [i[1] for i in data] #종속 변수 (0: fail, 1: pass)\n",
        "print(X, Y)"
      ],
      "metadata": {
        "id": "ZoMeNXQSK_Yf"
      },
      "execution_count": null,
      "outputs": []
    },
    {
      "cell_type": "code",
      "source": [
        "import matplotlib.pyplot as plt\n",
        "from tensorflow import keras\n",
        "from keras.models import Sequential\n",
        "from keras.layers import Dense"
      ],
      "metadata": {
        "id": "QMdcmuHeLZXu"
      },
      "execution_count": null,
      "outputs": []
    },
    {
      "cell_type": "code",
      "source": [
        "model = Sequential()\n",
        "model.add(Dense(1, input_dim = 1, activation = 'sigmoid'))\n",
        "\n",
        "model.compile(optimizer = 'sgd', loss = 'binary_crossentropy')\n",
        "model.fit(X, Y, epochs = 5000)"
      ],
      "metadata": {
        "id": "TwPTHKY1Lxt2"
      },
      "execution_count": null,
      "outputs": []
    },
    {
      "cell_type": "code",
      "source": [
        "# Drawing a graph\n",
        "plt.scatter(X, Y)\n",
        "plt.plot(X, model.predict(X), 'r')\n",
        "plt.show()"
      ],
      "metadata": {
        "id": "eXg3IXJ3Mi1R"
      },
      "execution_count": null,
      "outputs": []
    },
    {
      "cell_type": "code",
      "source": [
        "hour = 26\n",
        "prediction = model.predict([hour])\n",
        "print(f\"If you study {hour} hours, your passing probability is {np.round(prediction.item() * 100 , 2)}%\")"
      ],
      "metadata": {
        "id": "lCBYQt88N4mo"
      },
      "execution_count": null,
      "outputs": []
    }
  ]
}