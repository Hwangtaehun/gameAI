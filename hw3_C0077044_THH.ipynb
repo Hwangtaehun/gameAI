{
  "nbformat": 4,
  "nbformat_minor": 0,
  "metadata": {
    "colab": {
      "private_outputs": true,
      "provenance": [],
      "authorship_tag": "ABX9TyPIyo+YwtzrHjaO5YKjpyFW",
      "include_colab_link": true
    },
    "kernelspec": {
      "name": "python3",
      "display_name": "Python 3"
    },
    "language_info": {
      "name": "python"
    }
  },
  "cells": [
    {
      "cell_type": "markdown",
      "metadata": {
        "id": "view-in-github",
        "colab_type": "text"
      },
      "source": [
        "<a href=\"https://colab.research.google.com/github/Hwangtaehun/gameAI/blob/main/hw3_C0077044_THH.ipynb\" target=\"_parent\"><img src=\"https://colab.research.google.com/assets/colab-badge.svg\" alt=\"Open In Colab\"/></a>"
      ]
    },
    {
      "cell_type": "code",
      "execution_count": null,
      "metadata": {
        "id": "TxwUHbNfzW12"
      },
      "outputs": [],
      "source": [
        "import numpy as np\n",
        "from google.colab import drive\n",
        "drive.mount('/content/drive')\n",
        "data = np.genfromtxt('/content/drive/My Drive/csv/sample-dataset.csv', skip_header=1, delimiter=',')\n",
        "print(data)"
      ]
    },
    {
      "cell_type": "code",
      "source": [
        "X = [i[0] for i in data] #독립 변수 (study time)\n",
        "Y = [i[1] for i in data] #종속 변수 (0: fail, 1: pass)\n",
        "print(X, Y)"
      ],
      "metadata": {
        "id": "bjzhsvw0z142"
      },
      "execution_count": null,
      "outputs": []
    },
    {
      "cell_type": "code",
      "source": [
        "import matplotlib.pyplot as plt\n",
        "from tensorflow import keras\n",
        "from keras.models import Sequential\n",
        "from keras.layers import Dense"
      ],
      "metadata": {
        "id": "44-Ngrw5z-hr"
      },
      "execution_count": null,
      "outputs": []
    },
    {
      "cell_type": "code",
      "source": [
        "model = Sequential()\n",
        "model.add(Dense(1, input_dim = 1, activation = 'sigmoid'))\n",
        "\n",
        "model.compile(optimizer = 'sgd', loss = 'binary_crossentropy')\n",
        "model.fit(X, Y, epochs = 20000)"
      ],
      "metadata": {
        "id": "m1K4Wosr0BDj"
      },
      "execution_count": null,
      "outputs": []
    },
    {
      "cell_type": "code",
      "source": [
        "# Drawing a graph\n",
        "plt.scatter(X, Y)\n",
        "plt.plot(X, model.predict(X), 'r')\n",
        "plt.show()"
      ],
      "metadata": {
        "id": "ly_gmgu_0hFo"
      },
      "execution_count": null,
      "outputs": []
    },
    {
      "cell_type": "code",
      "source": [
        "hour = 7\n",
        "prediction = model.predict([hour])\n",
        "print(f\"If you study {hour} hours, your passing probability is {np.round(prediction.item() * 100 , 2)}%\")"
      ],
      "metadata": {
        "id": "eBcf0EUp0j2M"
      },
      "execution_count": null,
      "outputs": []
    },
    {
      "cell_type": "markdown",
      "source": [
        "가장 적절한 에포크 횟수(number of epochs)는 거의 50%에 가까운 20000번이 가장 적절합니다."
      ],
      "metadata": {
        "id": "LGDzD19ENTeL"
      }
    },
    {
      "cell_type": "markdown",
      "source": [
        "데이터 사이즈가 더 커질수록 정확성은 더 커지는 것을 알 수 있습니다.\n",
        "그 근거로 똑같이 5000번 반복했을때 데이터 사이즈가 7은 7시간 예측값이 59.61%였지만 사이즈가 30은 7시간을 예측값은 57.61%로 더 정확합니다."
      ],
      "metadata": {
        "id": "c618IqpgLCuK"
      }
    }
  ]
}