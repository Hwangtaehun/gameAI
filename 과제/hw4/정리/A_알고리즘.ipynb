{
  "nbformat": 4,
  "nbformat_minor": 0,
  "metadata": {
    "colab": {
      "private_outputs": true,
      "provenance": []
    },
    "kernelspec": {
      "name": "python3",
      "display_name": "Python 3"
    },
    "language_info": {
      "name": "python"
    }
  },
  "cells": [
    {
      "cell_type": "code",
      "source": [
        "#가중치 리스트\n",
        "weight = {\n",
        "    'A':{'B':6, 'F':3},\n",
        "    'B':{'A':6, 'C':3, 'D':2},\n",
        "    'C':{'B':3, 'D':1, 'E':5},\n",
        "    'D':{'B':2, 'C':1, 'E':8},\n",
        "    'E':{'C':5, 'D':8, 'I':5, 'J':5},\n",
        "    'F':{'A':3, 'G':1, 'H':7},\n",
        "    'G':{'F':1, 'I':3},\n",
        "    'H':{'F':7, 'I':2},\n",
        "    'I':{'E':5, 'G':3, 'H':2, 'J':3},\n",
        "    'J':{'E':5, 'I':3}\n",
        "}\n",
        "\n",
        "#현재노드에서 목적지까지 추정거리 리스트\n",
        "dis = {\n",
        "    'A':10, 'B':8, 'C':5, 'D':7, 'E':3, 'F':6, 'G':5, 'H':3, 'I':1, 'J':0\n",
        "}"
      ],
      "metadata": {
        "id": "PdL8houv8u6m"
      },
      "execution_count": null,
      "outputs": []
    },
    {
      "cell_type": "code",
      "execution_count": null,
      "metadata": {
        "id": "NIlL4AvpvN21"
      },
      "outputs": [],
      "source": [
        "class Node:\n",
        "    def __init__(self, parent=None, position=None):\n",
        "        self.parent = parent #이전 노드 주소\n",
        "        self.position = position # 현재위치\n",
        "\n",
        "        self.g = 0 #실제비용\n",
        "        self.h = 0 #목표까지 예측비용\n",
        "        self.f = 0 #총 비용\n",
        "\n",
        "    def print(self):\n",
        "      print(\"parent = \", self.parent)\n",
        "      print(\"position = \", self.position)"
      ]
    },
    {
      "cell_type": "code",
      "source": [
        "def aStar(start, end):\n",
        "  #startNode와 endNode 초기화\n",
        "  startNode = Node(None, start);\n",
        "  endNode = Node(None, end)\n",
        "\n",
        "  #openList, closeList 초기화\n",
        "  openList = []\n",
        "  closeList = []\n",
        "\n",
        "  #openList에 시작 노드 추가\n",
        "  openList.append(startNode)\n",
        "\n",
        "  #endNode를 찾을 때까지 실행\n",
        "  while openList:\n",
        "    #현재 노드 지정\n",
        "    currentNode = openList[0]\n",
        "    currentIdx = 0\n",
        "\n",
        "  #이미 같은 노드가 opnList에 있고, f 값이 더크면 currentNode를 openList안에 있는 값으로 교체\n",
        "    for index, item in enumerate(openList):\n",
        "      if item.f < currentNode.f:\n",
        "        currentNode = item\n",
        "        currentIdx = index\n",
        "\n",
        "  # openList에서 제거하고 closeList에 추가\n",
        "    openList.pop(currentIdx)\n",
        "    closeList.append(currentNode)\n",
        "\n",
        "  #현재 노드가 목적지면 current.position 추가하고 current의 부모로 이동\n",
        "    if currentNode.position == endNode.position:\n",
        "      path = []\n",
        "      current = currentNode\n",
        "      while current is not None:\n",
        "        path.append(current.position)\n",
        "        current = current.parent\n",
        "      return path[::-1] #reverse\n",
        "\n",
        "    children = []\n",
        "    for key, value in weight[currentNode.position].items():\n",
        "      new_node = Node(currentNode, key)\n",
        "      children.append(new_node)\n",
        "\n",
        "    # 자식들 모두 loop\n",
        "    for child in children:\n",
        "      #자식 closeList에 있으면 continue\n",
        "      if child in closeList:\n",
        "        continue\n",
        "\n",
        "      #f,g,h값 업데이트\n",
        "      child.g = currentNode.g + weight[currentNode.position][child.position]\n",
        "      child.h = dis[child.position]\n",
        "      child.f = child.g + child.h\n",
        "\n",
        "      if len([openNode for openNode in openList if child == openNode and child.g > openNode.g]) > 0:\n",
        "        continue\n",
        "\n",
        "      openList.append(child)"
      ],
      "metadata": {
        "id": "6ddda-Em-Jzz"
      },
      "execution_count": null,
      "outputs": []
    },
    {
      "cell_type": "code",
      "source": [
        "def main():\n",
        "  start = 'A'\n",
        "  end = 'J'\n",
        "\n",
        "  path = aStar(start, end)\n",
        "  print(path)\n",
        "\n",
        "if __name__ == '__main__':\n",
        "  main()"
      ],
      "metadata": {
        "id": "ti3spfsvLysR"
      },
      "execution_count": null,
      "outputs": []
    },
    {
      "cell_type": "markdown",
      "source": [
        "참고자료: https://choiseokwon.tistory.com/210"
      ],
      "metadata": {
        "id": "rkbc5uAnzqPA"
      }
    }
  ]
}