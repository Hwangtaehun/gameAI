{
  "nbformat": 4,
  "nbformat_minor": 0,
  "metadata": {
    "colab": {
      "private_outputs": true,
      "provenance": []
    },
    "kernelspec": {
      "name": "python3",
      "display_name": "Python 3"
    },
    "language_info": {
      "name": "python"
    }
  },
  "cells": [
    {
      "cell_type": "code",
      "execution_count": null,
      "metadata": {
        "id": "OUubT0HHJn9o"
      },
      "outputs": [],
      "source": [
        "import numpy as np\n",
        "import matplotlib.pyplot as plt"
      ]
    },
    {
      "cell_type": "code",
      "source": [
        "# age x1과 experience x2, income y의 넘파이 배열을 만듭니다.\n",
        "x1 = np.array([25, 30, 47, 32, 43, 51, 28, 33, 37, 39, 29, 47, 54, 51, 44, 41, 58, 23, 44, 37])\n",
        "x2 = np.array([1, 3, 2, 5, 10, 7, 5, 4, 5, 8, 1, 9, 5, 4, 12, 6, 17, 1, 9, 10])\n",
        "y = np.array([30450, 35670, 31580, 40130, 47830, 41630, 41340, 37650, 40250, 45150, 27840, 46110, 36720, 34800, 51300, 38900, 63600, 30870, 44190, 48700])"
      ],
      "metadata": {
        "id": "HvB8gAAjJsJ5"
      },
      "execution_count": null,
      "outputs": []
    },
    {
      "cell_type": "code",
      "source": [
        "# 데이터의 분포를 그래프로 나타냅니다.\n",
        "fig = plt.figure()\n",
        "ax = fig.add_subplot(111, projection='3d')\n",
        "ax.scatter3D(x1, x2, y)\n",
        "plt.show()"
      ],
      "metadata": {
        "id": "QnSGQ3dBJucc"
      },
      "execution_count": null,
      "outputs": []
    },
    {
      "cell_type": "code",
      "source": [
        "# 기울기 a와 절편 b의 값을 초기화.\n",
        "a1 = 0\n",
        "a2 = 0\n",
        "b = 0\n",
        "\n",
        "# 학습률\n",
        "lr = 0.0005\n",
        "\n",
        "# 몇 번 반복\n",
        "epochs = 200001"
      ],
      "metadata": {
        "id": "bFALkup0Jwt6"
      },
      "execution_count": null,
      "outputs": []
    },
    {
      "cell_type": "code",
      "source": [
        "# x 값이 총 몇 개인지 셉니다. x1과 x2의 수가 같으므로 x1만 세겠습니다. 기울기가 클수록 영향을 많이 미친다.\n",
        "n=len(x1)\n",
        "\n",
        "# 경사 하강법을 시작합니다.\n",
        "for i in range(epochs):                  # 에포크 수 만큼 반복\n",
        "\n",
        "    y_pred = a1 * x1 + a2 * x2 + b       # 예측 값을 구하는 식을 세웁니다\n",
        "    error = y - y_pred                   # 실제 값과 비교한 오차를 error로 놓습니다.\n",
        "\n",
        "    a1_diff = (2/n) * sum(-x1 * (error)) # 오차 함수를 a1로 편미분한 값입니다.\n",
        "    a2_diff = (2/n) * sum(-x2 * (error)) # 오차 함수를 a2로 편미분한 값입니다.\n",
        "    b_diff = (2/n) * sum(-(error))       # 오차 함수를 b로 편미분한 값입니다.\n",
        "\n",
        "    a1 = a1 - lr * a1_diff  # 학습률을 곱해 기존의 a1 값을 업데이트합니다.\n",
        "    a2 = a2 - lr * a2_diff  # 학습률을 곱해 기존의 a2 값을 업데이트합니다.\n",
        "    b = b - lr * b_diff     # 학습률을 곱해 기존의 b 값을 업데이트합니다.\n",
        "\n",
        "    if i % 1000 == 0:        # 100번 반복될 때마다 현재의 a1, a2, b 값을 출력합니다.\n",
        "        print(\"epoch=%.f, 기울기1=%.04f, 기울기2=%.04f, 절편=%.04f\" % (i, a1, a2, b))"
      ],
      "metadata": {
        "id": "tgSxyKuTJzXI"
      },
      "execution_count": null,
      "outputs": []
    },
    {
      "cell_type": "code",
      "source": [
        "# 실제 점수와 예측된 점수를 출력합니다.\n",
        "print(\"실제 점수:\", y)\n",
        "print(\"예측 점수:\", y_pred)"
      ],
      "metadata": {
        "id": "cTMu40AvMAjA"
      },
      "execution_count": null,
      "outputs": []
    }
  ]
}